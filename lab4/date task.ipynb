{
 "cells": [
  {
   "cell_type": "code",
   "execution_count": 1,
   "metadata": {},
   "outputs": [
    {
     "name": "stdout",
     "output_type": "stream",
     "text": [
      "this is today: 2025-02-09 11:45:23.606861\n",
      "this is new date: 2025-02-04 11:45:23.606861\n"
     ]
    }
   ],
   "source": [
    "from datetime import datetime, timedelta\n",
    "\n",
    "today = datetime.today()\n",
    "newDate = today - timedelta(days=5)\n",
    "\n",
    "print(f\"this is today: {today}\")\n",
    "print(f\"this is new date: {newDate}\")"
   ]
  },
  {
   "cell_type": "code",
   "execution_count": 2,
   "metadata": {},
   "outputs": [
    {
     "name": "stdout",
     "output_type": "stream",
     "text": [
      "this is yesterday: 2025-02-08 11:45:23.615423\n",
      "this is today: 2025-02-09 11:45:23.615423\n",
      "this is tomorrow: 2025-02-10 11:45:23.615423\n"
     ]
    }
   ],
   "source": [
    "from datetime import datetime, timedelta\n",
    "\n",
    "today = datetime.today()\n",
    "yesterday = today - timedelta(days = 1)\n",
    "tomorrow = today + timedelta(days = 1)\n",
    "\n",
    "print(f\"this is yesterday: {yesterday}\")\n",
    "print(f\"this is today: {today}\")\n",
    "print(f\"this is tomorrow: {tomorrow}\")"
   ]
  },
  {
   "cell_type": "code",
   "execution_count": 3,
   "metadata": {},
   "outputs": [
    {
     "name": "stdout",
     "output_type": "stream",
     "text": [
      "2025-02-09 11:45:23\n"
     ]
    }
   ],
   "source": [
    "from datetime import datetime, timedelta\n",
    "\n",
    "now = datetime.now().replace(microsecond=0)\n",
    "print(now)"
   ]
  },
  {
   "cell_type": "code",
   "execution_count": null,
   "metadata": {},
   "outputs": [
    {
     "name": "stdout",
     "output_type": "stream",
     "text": [
      "date difference: 1 day, 0:00:00\n",
      "day to seconds: 86400.0\n"
     ]
    }
   ],
   "source": [
    "from datetime import datetime, timedelta\n",
    "\n",
    "final1 = day1.replace(microsecond=0)\n",
    "final2 = day2.replace(microsecond=0)\n",
    "\n",
    "day1 = datetime.now() + timedelta(days=1)\n",
    "day2 = datetime.now()\n",
    "\n",
    "dateDiff = final1 - final2\n",
    "\n",
    "print(f\"date difference: {dateDiff}\")\n",
    "print(f\"day to seconds: {dateDiff.total_seconds()}\")"
   ]
  }
 ],
 "metadata": {
  "kernelspec": {
   "display_name": "Python 3",
   "language": "python",
   "name": "python3"
  },
  "language_info": {
   "codemirror_mode": {
    "name": "ipython",
    "version": 3
   },
   "file_extension": ".py",
   "mimetype": "text/x-python",
   "name": "python",
   "nbconvert_exporter": "python",
   "pygments_lexer": "ipython3",
   "version": "3.12.3"
  }
 },
 "nbformat": 4,
 "nbformat_minor": 2
}
