{
 "cells": [
  {
   "cell_type": "code",
   "execution_count": 14,
   "metadata": {},
   "outputs": [
    {
     "name": "stdout",
     "output_type": "stream",
     "text": [
      "Interface Status\n",
      "================================================================================\n",
      "DN                                                 Description          Speed      MTU       \n",
      "--------------------------------------------------------------------------------\n",
      "topology/pod-1/node-201/sys/phys-[eth1/33]         N/A                  inherit    9150      \n",
      "topology/pod-1/node-201/sys/phys-[eth1/34]         N/A                  inherit    9150      \n",
      "topology/pod-1/node-201/sys/phys-[eth1/35]         N/A                  inherit    9150      \n",
      "topology/pod-1/node-201/sys/phys-[eth1/36]         N/A                  inherit    9150      \n",
      "topology/pod-1/node-201/sys/phys-[eth1/1]          N/A                  inherit    9150      \n",
      "topology/pod-1/node-201/sys/phys-[eth1/2]          N/A                  inherit    9150      \n",
      "topology/pod-1/node-201/sys/phys-[eth1/3]          N/A                  inherit    9150      \n",
      "topology/pod-1/node-201/sys/phys-[eth1/4]          N/A                  inherit    9150      \n",
      "topology/pod-1/node-201/sys/phys-[eth1/5]          N/A                  inherit    9150      \n",
      "topology/pod-1/node-201/sys/phys-[eth1/6]          N/A                  inherit    9150      \n",
      "topology/pod-1/node-201/sys/phys-[eth1/7]          N/A                  inherit    9150      \n",
      "topology/pod-1/node-201/sys/phys-[eth1/8]          N/A                  inherit    9150      \n",
      "topology/pod-1/node-201/sys/phys-[eth1/9]          N/A                  inherit    9150      \n",
      "topology/pod-1/node-201/sys/phys-[eth1/10]         N/A                  inherit    9150      \n",
      "topology/pod-1/node-201/sys/phys-[eth1/11]         N/A                  inherit    9150      \n",
      "topology/pod-1/node-201/sys/phys-[eth1/12]         N/A                  inherit    9150      \n",
      "topology/pod-1/node-201/sys/phys-[eth1/13]         N/A                  inherit    9150      \n",
      "topology/pod-1/node-201/sys/phys-[eth1/14]         N/A                  inherit    9150      \n"
     ]
    }
   ],
   "source": [
    "import json\n",
    "\n",
    "with open(\"sample_data.json\", \"r\") as file:\n",
    "    data = json.load(file)\n",
    "\n",
    "interfaces = data[\"imdata\"]\n",
    "print(\"Interface Status\")\n",
    "print(\"=\" * 80)\n",
    "print(\"{:<50} {:<20} {:<10} {:<10}\".format(\"DN\", \"Description\", \"Speed\", \"MTU\"))\n",
    "print(\"-\" * 80)\n",
    "\n",
    "\n",
    "for interface in interfaces:\n",
    "    attributes = interface[\"l1PhysIf\"][\"attributes\"]\n",
    "\n",
    "    dn = attributes[\"dn\"]\n",
    "    description = attributes[\"descr\"] if attributes[\"descr\"] else \"N/A\"\n",
    "    speed = attributes[\"speed\"]  \n",
    "    mtu = attributes[\"mtu\"]\n",
    "\n",
    "    print(\"{:<50} {:<20} {:<10} {:<10}\".format(dn, description, speed, mtu))\n"
   ]
  }
 ],
 "metadata": {
  "kernelspec": {
   "display_name": "Python 3",
   "language": "python",
   "name": "python3"
  },
  "language_info": {
   "codemirror_mode": {
    "name": "ipython",
    "version": 3
   },
   "file_extension": ".py",
   "mimetype": "text/x-python",
   "name": "python",
   "nbconvert_exporter": "python",
   "pygments_lexer": "ipython3",
   "version": "3.12.3"
  }
 },
 "nbformat": 4,
 "nbformat_minor": 2
}
