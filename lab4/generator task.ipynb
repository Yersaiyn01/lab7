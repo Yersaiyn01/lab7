{
 "cells": [
  {
   "cell_type": "markdown",
   "metadata": {},
   "source": [
    "* There are some lab tasks"
   ]
  },
  {
   "cell_type": "code",
   "execution_count": null,
   "metadata": {},
   "outputs": [
    {
     "name": "stdout",
     "output_type": "stream",
     "text": [
      "[0, 1, 4, 9, 16, 25, 36, 49, 64, 81, 100]\n"
     ]
    }
   ],
   "source": [
    "def squares(n):\n",
    "    num = 0\n",
    "    while num <= n:\n",
    "        yield num\n",
    "        num += 1\n",
    "print([i*i for i in squares(15)])"
   ]
  },
  {
   "cell_type": "code",
   "execution_count": null,
   "metadata": {},
   "outputs": [
    {
     "name": "stdout",
     "output_type": "stream",
     "text": [
      "0,2,4,6,8,10\n"
     ]
    }
   ],
   "source": [
    "def even(n):\n",
    "    num = 0\n",
    "    while num <= n:\n",
    "        yield num\n",
    "        num += 1\n",
    "\n",
    "\n",
    "evens = [str(i) for i in even(15) if i % 2 == 0]\n",
    "print(\",\".join(evens))"
   ]
  },
  {
   "cell_type": "code",
   "execution_count": null,
   "metadata": {},
   "outputs": [
    {
     "name": "stdout",
     "output_type": "stream",
     "text": [
      "[0, 12]\n"
     ]
    }
   ],
   "source": [
    "def mars(n):\n",
    "    num = 0\n",
    "    while num <= n:\n",
    "        yield num\n",
    "        num += 1\n",
    "\n",
    "print([i for i in mars(15) if i % 3 == 0 and i % 4 == 0])"
   ]
  },
  {
   "cell_type": "code",
   "execution_count": 5,
   "metadata": {},
   "outputs": [
    {
     "name": "stdout",
     "output_type": "stream",
     "text": [
      "[64, 81, 100, 121, 144, 169, 196, 225]\n"
     ]
    }
   ],
   "source": [
    "def mars(a, b):\n",
    "    num = a\n",
    "    while num <= b:\n",
    "        yield num\n",
    "        num += 1\n",
    "\n",
    "\n",
    "print([i*i for i in mars(8, 15)])"
   ]
  },
  {
   "cell_type": "code",
   "execution_count": 3,
   "metadata": {},
   "outputs": [
    {
     "name": "stdout",
     "output_type": "stream",
     "text": [
      "[15, 14, 13, 12, 11, 10, 9, 8, 7, 6, 5, 4, 3, 2, 1, 0]\n"
     ]
    }
   ],
   "source": [
    "def mars(n):\n",
    "    num = n\n",
    "    while num != -1:\n",
    "        yield num\n",
    "        num -= 1\n",
    "\n",
    "\n",
    "print([i for i in mars(15)])"
   ]
  }
 ],
 "metadata": {
  "kernelspec": {
   "display_name": "Python 3",
   "language": "python",
   "name": "python3"
  },
  "language_info": {
   "codemirror_mode": {
    "name": "ipython",
    "version": 3
   },
   "file_extension": ".py",
   "mimetype": "text/x-python",
   "name": "python",
   "nbconvert_exporter": "python",
   "pygments_lexer": "ipython3",
   "version": "3.12.2"
  }
 },
 "nbformat": 4,
 "nbformat_minor": 2
}
